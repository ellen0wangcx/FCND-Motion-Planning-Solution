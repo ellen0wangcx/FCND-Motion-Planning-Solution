{
 "cells": [
  {
   "cell_type": "markdown",
   "metadata": {},
   "source": [
    "## Project: 3D Motion Planning\n",
    "![Quad Image](./misc/enroute.png)\n",
    "\n",
    "---"
   ]
  },
  {
   "cell_type": "markdown",
   "metadata": {},
   "source": [
    "# Required Steps for a Passing Submission:\n",
    "1. Load the 2.5D map in the colliders.csv file describing the environment.\n",
    "2. Discretize the environment into a grid or graph representation.\n",
    "3. Define the start and goal locations.\n",
    "4. Perform a search using A* or other search algorithm.\n",
    "5. Use a collinearity test or ray tracing method (like Bresenham) to remove unnecessary waypoints.\n",
    "6. Return waypoints in local ECEF coordinates (format for `self.all_waypoints` is [N, E, altitude, heading], where the drone’s start location corresponds to [0, 0, 0, 0].\n",
    "7. Write it up.\n",
    "8. Congratulations!  Your Done!"
   ]
  },
  {
   "cell_type": "markdown",
   "metadata": {},
   "source": [
    "## [Rubric](https://review.udacity.com/#!/rubrics/1534/view) Points\n",
    "### Here I will consider the rubric points individually and describe how I addressed each point in my implementation.  \n",
    "\n",
    "---"
   ]
  },
  {
   "cell_type": "markdown",
   "metadata": {},
   "source": [
    "### Writeup / README\n",
    "\n",
    "#### 1. Provide a Writeup / README that includes all the rubric points and how you addressed each one.  You can submit your writeup as markdown or pdf.  \n",
    "\n",
    "You're reading it! Below I describe how I addressed each rubric point and where in my code each point is handled.\n"
   ]
  },
  {
   "cell_type": "markdown",
   "metadata": {},
   "source": [
    "### Explain the Starter Code\n",
    "\n",
    "#### 1. Explain the functionality of what's provided in `motion_planning.py` and `planning_utils.py`\n",
    "These scripts contain a basic planning implementation that includes...\n",
    "\n",
    "And here's a lovely image of my results (ok this image has nothing to do with it, but it's a nice example of how to include images in your writeup!)\n",
    "![Top Down View](./misc/high_up.png)\n",
    "\n",
    "Here's | A | Snappy | Table\n",
    "--- | --- | --- | ---\n",
    "1 | `highlight` | **bold** | 7.41\n",
    "2 | a | b | c\n",
    "3 | *italic* | text | 403\n",
    "4 | 2 | 3 | abcd"
   ]
  },
  {
   "cell_type": "markdown",
   "metadata": {},
   "source": [
    "#### Q1. Test that motion_planning.py is a modified version of backyard_flyer_solution.py for simple path planning. Verify that both scripts work. Then, compare them side by side and describe in words how each of the modifications implemented in motion_planning.py is functioning."
   ]
  },
  {
   "cell_type": "markdown",
   "metadata": {},
   "source": [
    "(fcnd) 88michaeldeMacBook-Air:FCND-Motion-Planning 88michael$ python motion_planning.py\n",
    "Logs/TLog.txt\n",
    "Logs/NavLog.txt\n",
    "starting connection\n",
    "arming transition\n",
    "Searching for a path ...\n",
    "global home [-122.39745   37.79248    0.     ], position [-1.22397493e+02  3.77924943e+01  9.30000000e-02], local position [ 1.59504807 -3.82608819 -0.09381434]\n",
    "North offset = -316, east offset = -445\n",
    "Local Start and Goal:  (316, 445) (326, 455)\n",
    "Found a path.\n",
    "Sending waypoints to simulator ...\n",
    "takeoff transition\n",
    "waypoint transition\n",
    "target position [0, 0, 5, 0]\n",
    "waypoint transition\n",
    "target position [0, 1, 5, 0]\n",
    "waypoint transition\n",
    "target position [1, 1, 5, 0]\n",
    "waypoint transition\n",
    "target position [1, 2, 5, 0]\n",
    "waypoint transition\n",
    "target position [2, 2, 5, 0]\n",
    "waypoint transition\n",
    "target position [2, 3, 5, 0]\n",
    "waypoint transition\n",
    "target position [3, 3, 5, 0]\n",
    "waypoint transition\n",
    "target position [3, 4, 5, 0]\n",
    "waypoint transition\n",
    "target position [4, 4, 5, 0]\n",
    "waypoint transition\n",
    "target position [4, 5, 5, 0]\n",
    "waypoint transition\n",
    "target position [5, 5, 5, 0]\n",
    "waypoint transition\n",
    "target position [5, 6, 5, 0]\n",
    "waypoint transition\n",
    "target position [6, 6, 5, 0]\n",
    "waypoint transition\n",
    "target position [6, 7, 5, 0]\n",
    "waypoint transition\n",
    "target position [7, 7, 5, 0]\n",
    "waypoint transition\n",
    "target position [7, 8, 5, 0]\n",
    "waypoint transition\n",
    "target position [8, 8, 5, 0]\n",
    "waypoint transition\n",
    "target position [8, 9, 5, 0]\n",
    "waypoint transition\n",
    "target position [9, 9, 5, 0]\n",
    "waypoint transition\n",
    "target position [9, 10, 5, 0]\n",
    "waypoint transition\n",
    "target position [10, 10, 5, 0]\n",
    "landing transition\n",
    "disarm transition\n",
    "manual transition\n",
    "Closing connection ..."
   ]
  },
  {
   "cell_type": "markdown",
   "metadata": {},
   "source": [
    "(fcnd) 88michaeldeMacBook-Air:FCND-Motion-Planning 88michael$ python backyard_flyer_solution.py\n",
    "Logs/TLog.txt\n",
    "Logs/NavLog.txt\n",
    "starting connection\n",
    "arming transition\n",
    "takeoff transition\n",
    "Setting Home\n",
    "waypoint transition\n",
    "target position [10.0, 0.0, 3.0]\n",
    "waypoint transition\n",
    "target position [10.0, 10.0, 3.0]\n",
    "waypoint transition\n",
    "target position [0.0, 10.0, 3.0]\n",
    "waypoint transition\n",
    "target position [0.0, 0.0, 3.0]\n",
    "landing transition\n",
    "disarm transition\n",
    "manual transition\n",
    "Closing connection ...\n"
   ]
  },
  {
   "cell_type": "markdown",
   "metadata": {},
   "source": [
    "#### Answer:"
   ]
  },
  {
   "cell_type": "markdown",
   "metadata": {},
   "source": [
    "motion_planning.py works almost same as backyard_flyer_solution.py in the state basic control loop for managing the drones behaviour, such as starting connection, arming transition, landing transition, disarm transition, closing connection. But there are several different basic planning implementation in the process of takeoff transition and waypoint transition to plan a suitable path."
   ]
  },
  {
   "cell_type": "markdown",
   "metadata": {},
   "source": [
    "In the process of takeoff transition:  motion_planning.py is added plan_path function to calculate path before takeoff transition, whereas backyard_flyer_solution create calculate_box function to shape flight path after takeoff transitin.\n",
    "In the plan_path function of motion_planning.py, there are three keypoints to find path. Initially, it makes grid representation of 2D configuration space given obstacle data with TARGET_ALTITUDE and SAFETY_DISTANCE. It also use UTM package to convert global positon to local position(NED) and set start point as center of the map. In addition, it add searching path functions such as A* algorithm and collinearity algorithm to optimize implementation."
   ]
  },
  {
   "cell_type": "markdown",
   "metadata": {},
   "source": [
    "In the phase of waypoint transiton: motion_planning.py is not only sending waypoints to simulator, but also converting path to waypoints by adding north and east offset."
   ]
  },
  {
   "cell_type": "markdown",
   "metadata": {},
   "source": [
    "### Implementing Your Path Planning Algorithm\n",
    "\n",
    "#### 1. Set your global home position\n",
    "Here students should read the first line of the csv file, extract lat0 and lon0 as floating point values and use the self.set_home_position() method to set global home. Explain briefly how you accomplished this in your code.\n",
    "\n",
    "\n",
    "And here is a lovely picture of our downtown San Francisco environment from above!\n",
    "![Map of SF](./misc/map.png)\n",
    "\n"
   ]
  },
  {
   "cell_type": "markdown",
   "metadata": {},
   "source": [
    "#### Answer:"
   ]
  },
  {
   "cell_type": "markdown",
   "metadata": {},
   "source": [
    "The drone needs to know the local coordinate of each successive waypoint to generate a vaid path. Reading configuration space state named 'colliders.csv' file is able to accomplish setting the home location."
   ]
  },
  {
   "cell_type": "code",
   "execution_count": 4,
   "metadata": {},
   "outputs": [
    {
     "name": "stdout",
     "output_type": "stream",
     "text": [
      "37.79248 -122.39745\n"
     ]
    }
   ],
   "source": [
    "with open('colliders.csv') as f:\n",
    "    home_pos_data = f.readline().split(\",\")\n",
    "lat0 = float(home_pos_data[0].strip().split(\" \")[1])\n",
    "lon0 = float(home_pos_data[1].strip().split(\" \")[1])\n",
    "print(lat0, lon0)"
   ]
  },
  {
   "cell_type": "markdown",
   "metadata": {},
   "source": [
    "#### 2. Set your current local position\n",
    "Here as long as you successfully determine your local position relative to global home you'll be all set. Explain briefly how you accomplished this in your code.\n",
    "\n",
    "\n",
    "Meanwhile, here's a picture of me flying through the trees!\n",
    "![Forest Flying](./misc/in_the_trees.png)\n",
    "\n",
    "\n",
    "\n"
   ]
  },
  {
   "cell_type": "markdown",
   "metadata": {},
   "source": [
    "#### Answer:"
   ]
  },
  {
   "cell_type": "markdown",
   "metadata": {},
   "source": [
    "In the step one, the quadcopter obtain the global coordinates, then it needs to identify the home position. This is achieved by the following code:"
   ]
  },
  {
   "cell_type": "markdown",
   "metadata": {},
   "source": [
    "#### TODO: set home position to (lon0, lat0, 0)\n",
    "self.set_home_position(lon0, lat0, 0)"
   ]
  },
  {
   "cell_type": "markdown",
   "metadata": {},
   "source": [
    "#### 3. Set grid start position from local position\n",
    "This is another step in adding flexibility to the start location. As long as it works you're good to go!\n",
    "\n",
    "\n"
   ]
  },
  {
   "cell_type": "markdown",
   "metadata": {},
   "source": [
    "#### Answer:"
   ]
  },
  {
   "cell_type": "markdown",
   "metadata": {},
   "source": [
    "UTM conversion library for Python and frame_utils module create a global_to_local function to calculate the NED coordinates from the global position. In the NED frame, the world is constructed as grid representation and discretized to reduce the size of the grid space so that the minimum data points build up reasonable grid. That means the relative center is the offset of north, east, down direction."
   ]
  },
  {
   "cell_type": "markdown",
   "metadata": {},
   "source": [
    "#### TODO: retrieve current global position\n",
    "current_local_position=global_to_local(self.global_position, self.global_home)"
   ]
  },
  {
   "cell_type": "markdown",
   "metadata": {},
   "source": [
    "grid, north_offset, east_offset = create_grid(data, TARGET_ALTITUDE, SAFETY_DISTANCE)\n",
    "print(\"North offset = {0}, east offset = {1}\".format(north_offset, east_offset))\n",
    "#### Define starting point on the grid (this is just grid center)\n",
    "grid_start = (int(current_local_position[0]-north_offset), int(current_local_position[1]-east_offset))\n",
    "#### TODO: convert start position to current position rather than map center\n",
    "local_goal = global_to_local(self.global_position, self.global_home)\n",
    "grid_goal = (int(local_goal[0]-north_offset+50), int(local_goal[1]-east_offset+60))"
   ]
  },
  {
   "cell_type": "markdown",
   "metadata": {},
   "source": [
    "#### 4. Set grid goal position from geodetic coords\n",
    "This step is to add flexibility to the desired goal location. Should be able to choose any (lat, lon) within the map and have it rendered to a goal location on the grid.\n",
    "\n"
   ]
  },
  {
   "cell_type": "markdown",
   "metadata": {},
   "source": [
    "#### Answer:"
   ]
  },
  {
   "cell_type": "markdown",
   "metadata": {},
   "source": [
    "In the above step, offsets are calculated, the local goal is taken converting global latitude and global longitude. Picked up [-122.4081522, 37.7942581] as cocal goal location."
   ]
  },
  {
   "cell_type": "markdown",
   "metadata": {},
   "source": [
    "#### TODO: adapt to set goal as latitude / longitude position and convert\n",
    "local_goal[0]=-122.4081522;  \n",
    "local_goal[1]=37.7942581"
   ]
  },
  {
   "cell_type": "markdown",
   "metadata": {},
   "source": [
    "#### 5. Modify A* to include diagonal motion (or replace A* altogether)\n",
    "Minimal requirement here is to modify the code in planning_utils() to update the A* implementation to include diagonal motions on the grid that have a cost of sqrt(2), but more creative solutions are welcome. Explain the code you used to accomplish this step.\n",
    "\n"
   ]
  },
  {
   "cell_type": "markdown",
   "metadata": {},
   "source": [
    "#### Answer:"
   ]
  },
  {
   "cell_type": "markdown",
   "metadata": {},
   "source": [
    "A* implementation upgrade diagonal motions to action enumeration and define cost of diagonal motion to sqrt(2). The valid_actions function also extends to identify drone actions not move outside the grid or hit obstacles. "
   ]
  },
  {
   "cell_type": "markdown",
   "metadata": {},
   "source": [
    "#### TODO:\n",
    "    SOUTH_EAST=(1, 1, sqrt(2));\n",
    "    NORTH_EAST=(-1, 1, sqrt(2));\n",
    "    SOUTH_WEST=(1, -1, sqrt(2));\n",
    "    NORTH_WEST=(-1, -1, sqrt(2));\n",
    "    \n",
    "valid_actions:\n",
    "\n",
    "    if x + 1 > n or y + 1 > m or grid[x + 1, y + 1] == 1:\n",
    "        valid_actions.remove(Action.SOUTH_EAST)\n",
    "    if x - 1 < 0 or y + 1 > m or grid[x - 1, y + 1] == 1:\n",
    "        valid_actions.remove(Action.NORTH_EAST)\n",
    "    if x + 1 > n or y - 1 < 0 or grid[x + 1, y - 1] ==1:\n",
    "        valid_actions.remove(Action.SOUTH_WEST)\n",
    "    if x - 1 < 0 or y - 1 <0 or grid[x - 1, y - 1] ==1:\n",
    "        valid_actions.remove(Action.NORTH_WEST)"
   ]
  },
  {
   "cell_type": "markdown",
   "metadata": {},
   "source": [
    "#### 6. Cull waypoints \n",
    "For this step you can use a collinearity test or ray tracing method like Bresenham. The idea is simply to prune your path of unnecessary waypoints. Explain the code you used to accomplish this step."
   ]
  },
  {
   "cell_type": "markdown",
   "metadata": {},
   "source": [
    "#### Answer:"
   ]
  },
  {
   "cell_type": "markdown",
   "metadata": {},
   "source": [
    "Collinearity Prune: to reduce the number of waypoints, using collinearity prune method to remove series of collinear points and make efficient waypoints."
   ]
  },
  {
   "cell_type": "markdown",
   "metadata": {},
   "source": [
    "#### TODO:\n",
    "\n",
    "def collinearity_prune(path, epsilon=1e-5):\n",
    "\n",
    "    \"\"\"\n",
    "    Prune path points from `path` using collinearity.\n",
    "    \"\"\"\n",
    "    def point(p):\n",
    "        return np.array([p[0], p[1], 1.]).reshape(1, -1)\n",
    "    \n",
    "    def collinearity_check(p1, p2, p3):\n",
    "        m=np.concatenate((p1, p2, p3), 0)\n",
    "        det = np.linalg.det(m)\n",
    "        return abs(det)<epsilon\n",
    "    pruned_path=[p for p in path]\n",
    "    i = 0\n",
    "    while i < len(pruned_path) -2:\n",
    "        p1=point(pruned_path[i])\n",
    "        p2=point(pruned_path[i+1])\n",
    "        p3=point(pruned_path[i+2])\n",
    "        if collinearity_check(p1, p2, p3):\n",
    "            pruned_path.remove(pruned_path[i+1])\n",
    "        else:\n",
    "            i+=1\n",
    "    return pruned_path"
   ]
  },
  {
   "cell_type": "markdown",
   "metadata": {},
   "source": [
    "### Execute the flight\n",
    "#### 1. Does it work?\n",
    "It works!"
   ]
  },
  {
   "cell_type": "markdown",
   "metadata": {},
   "source": [
    "### Double check that you've met specifications for each of the [rubric](https://review.udacity.com/#!/rubrics/1534/view) points."
   ]
  },
  {
   "cell_type": "markdown",
   "metadata": {},
   "source": [
    "# Extra Challenges: Real World Planning\n",
    "\n",
    "For an extra challenge, consider implementing some of the techniques described in the \"Real World Planning\" lesson. You could try implementing a vehicle model to take dynamic constraints into account, or implement a replanning method to invoke if you get off course or encounter unexpected obstacles."
   ]
  },
  {
   "cell_type": "code",
   "execution_count": null,
   "metadata": {},
   "outputs": [],
   "source": []
  }
 ],
 "metadata": {
  "kernelspec": {
   "display_name": "Python 3",
   "language": "python",
   "name": "python3"
  },
  "language_info": {
   "codemirror_mode": {
    "name": "ipython",
    "version": 3
   },
   "file_extension": ".py",
   "mimetype": "text/x-python",
   "name": "python",
   "nbconvert_exporter": "python",
   "pygments_lexer": "ipython3",
   "version": "3.5.5"
  }
 },
 "nbformat": 4,
 "nbformat_minor": 2
}
