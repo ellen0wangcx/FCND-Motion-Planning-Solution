{
 "cells": [
  {
   "cell_type": "markdown",
   "metadata": {},
   "source": [
    "### Breadth-First Search 广度优先搜索"
   ]
  },
  {
   "cell_type": "code",
   "execution_count": 3,
   "metadata": {},
   "outputs": [],
   "source": [
    "from enum import Enum\n",
    "from queue import Queue, PriorityQueue\n",
    "import numpy as np\n",
    "import matplotlib.pyplot as plt"
   ]
  },
  {
   "cell_type": "code",
   "execution_count": 4,
   "metadata": {},
   "outputs": [],
   "source": [
    "class Action(Enum):\n",
    "    \"\"\"\n",
    "    An action is represented by a 3 element tuple.\n",
    "    \n",
    "    The first 2 values are the delta of the action relative\n",
    "    to the current grid position. The third and final value\n",
    "    is the cost of performing the action.\n",
    "    \"\"\"\n",
    "    LEFT = (0, -1, 1)\n",
    "    RIGHT = (0, 1, 1)\n",
    "    UP = (-1, 0, 1)\n",
    "    DOWN = (1, 0, 1)\n",
    "    \n",
    "    def __str__(self):\n",
    "        if self == self.LEFT:\n",
    "            return '<'\n",
    "        elif self == self.RIGHT:\n",
    "            return '>'\n",
    "        elif self == self.UP:\n",
    "            return '^'\n",
    "        elif self == self.DOWN:\n",
    "            return 'v'\n",
    "        \n",
    "    @property   \n",
    "    def cost(self):\n",
    "        return self.value[2]\n",
    "    \n",
    "    @property\n",
    "    def delta(self):\n",
    "        return (self.value[0], self.value[1])\n",
    "\n",
    "def valid_actions(grid, current_node):\n",
    "    \"\"\"\n",
    "    Returns a list of valid actions given a grid and current node.\n",
    "    \"\"\"\n",
    "    valid = [Action.UP, Action.LEFT, Action.RIGHT, Action.DOWN]\n",
    "    n, m = grid.shape[0] - 1, grid.shape[1] - 1\n",
    "    x, y = current_node\n",
    "    \n",
    "    # check if the node is off the grid or\n",
    "    # it's an obstacle\n",
    "    \n",
    "    if x - 1 < 0 or grid[x-1, y] == 1:\n",
    "        valid.remove(Action.UP)\n",
    "    if x + 1 > n or grid[x+1, y] == 1:\n",
    "        valid.remove(Action.DOWN)\n",
    "    if y - 1 < 0 or grid[x, y-1] == 1:\n",
    "        valid.remove(Action.LEFT)\n",
    "    if y + 1 > m or grid[x, y+1] == 1:\n",
    "        valid.remove(Action.RIGHT)\n",
    "        \n",
    "    return valid\n",
    "\n",
    "def visualize_path(grid, path, start):\n",
    "    \"\"\"\n",
    "    Given a grid, path and start position\n",
    "    return visual of the path to the goal.\n",
    "    \n",
    "    'S' -> start \n",
    "    'G' -> goal\n",
    "    'O' -> obstacle\n",
    "    ' ' -> empty\n",
    "    \"\"\"\n",
    "    sgrid = np.zeros(np.shape(grid), dtype=np.str)\n",
    "    sgrid[:] = ' '\n",
    "    sgrid[grid[:] == 1] = 'O'\n",
    "    \n",
    "    pos = start\n",
    "    \n",
    "    for a in path:\n",
    "        da = a.value\n",
    "        sgrid[pos[0], pos[1]] = str(a)\n",
    "        pos = (pos[0]+da[0], pos[1]+da[1])\n",
    "    sgrid[pos[0], pos[1]] = 'G'\n",
    "    sgrid[start[0], start[1]] = 'S'\n",
    "    return sgrid"
   ]
  },
  {
   "cell_type": "markdown",
   "metadata": {},
   "source": [
    "##### Cost Search\n",
    "\n",
    "In this section you will extend the breadth-first search algorithm by incorporating a cost for each action. Your task is to compute the lowest cost path."
   ]
  },
  {
   "cell_type": "code",
   "execution_count": 3,
   "metadata": {},
   "outputs": [],
   "source": [
    "def uniform_cost(grid, start, goal):\n",
    "    \n",
    "    # TODO: Initialize the starting variables\n",
    "    path = []\n",
    "    queue = PriorityQueue()\n",
    "    queue.put((0, start))\n",
    "    visited = set(start)\n",
    "    branch = {}\n",
    "    found = False\n",
    "    \n",
    "    while not queue.empty():\n",
    "        # TODO: Remove the first element from the queue\n",
    "        item = queue.get()\n",
    "        current_cost = item[0]\n",
    "        current_node = item[1]\n",
    "        \n",
    "        # TODO: Check if the current vertex corresponds to the goal state\n",
    "        # and set `found` to True if that's the case.\n",
    "        if current_node == goal:\n",
    "            print('Found a path.')\n",
    "            found = True\n",
    "            break\n",
    "        else:\n",
    "            for action in valid_actions(grid, current_node):\n",
    "                # get the tuple representation\n",
    "                da = action.delta\n",
    "                cost = action.cost\n",
    "                #next_node = (current_node[0] + da[0], current_node[1] + da[1])\n",
    "                next_node = (current_node[0] + da[0], current_node[1] + da[1]) \n",
    "                new_cost = current_cost + cost\n",
    "                # TODO: Check if the new vertex has not been visited before.\n",
    "                # If the node has not been visited you will need to\n",
    "                # 1. Mark it as visited\n",
    "                # 2. Add it to the queue\n",
    "                if next_node not in visited:\n",
    "                    visited.add(next_node)\n",
    "                    queue.put((new_cost, next_node))\n",
    "                    \n",
    "                    branch[next_node] = (new_cost, current_node, action)\n",
    "                    \n",
    "    path = []\n",
    "    path_cost = 0\n",
    "    if found:\n",
    "        # retrace steps\n",
    "        path = []\n",
    "        n = goal\n",
    "        path_cost = branch[n][0]\n",
    "        \n",
    "        while branch[n][1] != start:\n",
    "            path.append(branch[n][2])\n",
    "            n = branch[n][1]\n",
    "        path.append(branch[n][2])\n",
    "        \n",
    "    return path[::-1], path_cost\n",
    "    "
   ]
  },
  {
   "cell_type": "code",
   "execution_count": 4,
   "metadata": {},
   "outputs": [],
   "source": [
    "# Define your breadth-first search function here\n",
    "def breadth_first(grid, start, goal):\n",
    "\n",
    "    # TODO: Replace the None values for \n",
    "        # \"queue\" and \"visited\" with data structure objects\n",
    "        # and add the start position to each \n",
    "    queue = Queue()\n",
    "    queue.put(start)\n",
    "    visited = set()\n",
    "    visited.add(start)\n",
    "    branch = {}\n",
    "    found = False\n",
    "    \n",
    "    # Run loop while queue is not empty\n",
    "    while not queue.empty(): # TODO: replace True with q.empty():\n",
    "        # TODO: Replace \"None\" to remove the \n",
    "            #first element from the queue\n",
    "        current_node = queue.get()\n",
    "        \n",
    "        # TODO: Replace \"False\" to check if the current \n",
    "            # node corresponds to the goal state\n",
    "        if current_node == goal: \n",
    "            print('Found a path.')\n",
    "            found = True\n",
    "            break\n",
    "        else:\n",
    "            # TODO: Get the new nodes connected to the current node\n",
    "            # Iterate through each of the new nodes and:\n",
    "            # If the node has not been visited you will need to\n",
    "            # 1. Mark it as visited\n",
    "            # 2. Add it to the queue\n",
    "            # 3. Add how you got there to the branch dictionary \n",
    "            for a in valid_actions(grid, current_node):\n",
    "                da = a.value\n",
    "                next_node = (current_node[0] + da[0], current_node[1] + da[1])\n",
    "                if next_node not in visited:\n",
    "                    visited.add(next_node)\n",
    "                    queue.put(next_node)\n",
    "                    branch[next_node] = (current_node, a)\n",
    "    \n",
    "    # Now, if you found a path, retrace your steps through \n",
    "    # the branch dictionary to find out how you got there!\n",
    "    path = []\n",
    "    if found:\n",
    "        # retrace steps\n",
    "        path = []\n",
    "        n = goal\n",
    "        while branch[n][0] != start:\n",
    "            path.append(branch[n][1])\n",
    "            n = branch[n][0]\n",
    "        path.append(branch[n][1])\n",
    "            \n",
    "    return path[::-1]"
   ]
  },
  {
   "cell_type": "code",
   "execution_count": 5,
   "metadata": {},
   "outputs": [],
   "source": [
    "def a_star(grid, h, start, goal):\n",
    "\n",
    "    path = []\n",
    "    path_cost = 0\n",
    "    queue = PriorityQueue()\n",
    "    queue.put((0, start))\n",
    "    visited = set(start)\n",
    "\n",
    "    branch = {}\n",
    "    found = False\n",
    "    \n",
    "    while not queue.empty():\n",
    "        item = queue.get()\n",
    "        current_node = item[1]\n",
    "        if current_node == start:\n",
    "            current_cost = 0.0\n",
    "        else:              \n",
    "            current_cost = branch[current_node][0]\n",
    "            \n",
    "        if current_node == goal:        \n",
    "            print('Found a path.')\n",
    "            found = True\n",
    "            break\n",
    "        else:\n",
    "            for action in valid_actions(grid, current_node):\n",
    "                # get the tuple representation\n",
    "                da = action.delta\n",
    "                next_node = (current_node[0] + da[0], current_node[1] + da[1])\n",
    "                branch_cost = current_cost + action.cost\n",
    "                queue_cost = branch_cost + h(next_node, goal)\n",
    "                \n",
    "                if next_node not in visited:                \n",
    "                    visited.add(next_node)               \n",
    "                    branch[next_node] = (branch_cost, current_node, action)\n",
    "                    queue.put((queue_cost, next_node))\n",
    "             \n",
    "    if found:\n",
    "        # retrace steps\n",
    "        n = goal\n",
    "        path_cost = branch[n][0]\n",
    "        path.append(goal)\n",
    "        while branch[n][1] != start:\n",
    "            path.append(branch[n][1])\n",
    "            n = branch[n][1]\n",
    "        path.append(branch[n][1])\n",
    "    else:\n",
    "        print('**********************')\n",
    "        print('Failed to find a path!')\n",
    "        print('**********************') \n",
    "    return path[::-1], path_cost\n"
   ]
  },
  {
   "cell_type": "code",
   "execution_count": 6,
   "metadata": {},
   "outputs": [],
   "source": [
    "def create_grid(data, drone_altitude, safety_distance):\n",
    "    \"\"\"\n",
    "    Returns a grid representation of a 2D configuration space\n",
    "    based on given obstacle data, drone altitude and safety distance\n",
    "    arguments.\n",
    "    \"\"\"\n",
    "\n",
    "    # minimum and maximum north coordinates\n",
    "    north_min = np.floor(np.min(data[:, 0] - data[:, 3]))\n",
    "    north_max = np.ceil(np.max(data[:, 0] + data[:, 3]))\n",
    "\n",
    "    # minimum and maximum east coordinates\n",
    "    east_min = np.floor(np.min(data[:, 1] - data[:, 4]))\n",
    "    east_max = np.ceil(np.max(data[:, 1] + data[:, 4]))\n",
    "\n",
    "    # given the minimum and maximum coordinates we can\n",
    "    # calculate the size of the grid.\n",
    "    north_size = int(np.ceil(north_max - north_min))\n",
    "    east_size = int(np.ceil(east_max - east_min))\n",
    "\n",
    "    # Initialize an empty grid\n",
    "    grid = np.zeros((north_size, east_size))\n",
    "    \n",
    "    # Center offset for grid\n",
    "    north_min_center = np.min(data[:, 0])\n",
    "    east_min_center = np.min(data[:, 1])\n",
    "\n",
    "    # Populate the grid with obstacles\n",
    "    for i in range(data.shape[0]):\n",
    "        north, east, alt, d_north, d_east, d_alt = data[i, :]\n",
    "        if alt + d_alt + safety_distance > drone_altitude:\n",
    "            obstacle = [\n",
    "                int(np.clip(north - d_north - safety_distance - north_min, 0, north_size-1)),\n",
    "                int(np.clip(north + d_north + safety_distance - north_min, 0, north_size-1)),\n",
    "                int(np.clip(east - d_east - safety_distance - east_min, 0, east_size-1)),\n",
    "                int(np.clip(east + d_east + safety_distance - east_min, 0, east_size-1)),\n",
    "            ]\n",
    "            grid[obstacle[0]:obstacle[1]+1, obstacle[2]:obstacle[3]+1] = 1\n",
    "\n",
    "    return grid"
   ]
  },
  {
   "cell_type": "code",
   "execution_count": 7,
   "metadata": {},
   "outputs": [
    {
     "name": "stdout",
     "output_type": "stream",
     "text": [
      "[[-310.2389   -439.2315     85.5         5.          5.         85.5     ]\n",
      " [-300.2389   -439.2315     85.5         5.          5.         85.5     ]\n",
      " [-290.2389   -439.2315     85.5         5.          5.         85.5     ]\n",
      " ...\n",
      " [ 257.8061    425.1645      1.75852     1.292725    1.292725    1.944791]\n",
      " [ 293.9967    368.3391      3.557666    1.129456    1.129456    3.667319]\n",
      " [ 281.5162    354.4156      4.999351    1.053772    1.053772    4.950246]]\n"
     ]
    },
    {
     "data": {
      "image/png": "[encoded data removed]",
      "text/plain": [
       "<Figure size 864x864 with 1 Axes>"
      ]
     },
     "metadata": {},
     "output_type": "display_data"
    }
   ],
   "source": [
    "plt.rcParams['figure.figsize'] = 12, 12\n",
    "filename='colliders.csv'\n",
    "data=np.loadtxt(filename, delimiter=',', dtype='Float64', skiprows=2)\n",
    "print(data)\n",
    "drone_altitude=5\n",
    "safe_distance=3\n",
    "grid=create_grid(data, drone_altitude, safe_distance)\n",
    "plt.imshow(grid, origin='lower')\n",
    "plt.xlabel('EAST')\n",
    "plt.ylabel('NORTH')\n",
    "plt.show()"
   ]
  },
  {
   "cell_type": "markdown",
   "metadata": {},
   "source": [
    "Next you'll compute the path from a start location to a goal location using A*. Start and goal coordinates in *(north, east)*."
   ]
  },
  {
   "cell_type": "code",
   "execution_count": 8,
   "metadata": {},
   "outputs": [],
   "source": [
    "start_ne=(25, 100)\n",
    "goal_ne=(750., 370.)"
   ]
  },
  {
   "cell_type": "code",
   "execution_count": 9,
   "metadata": {},
   "outputs": [],
   "source": [
    "def heuristic_func(position, goal_position):\n",
    "    return np.abs(position[0] - goal_position[0]) + np.abs(position[1] - goal_position[1])"
   ]
  },
  {
   "cell_type": "code",
   "execution_count": 10,
   "metadata": {},
   "outputs": [
    {
     "name": "stdout",
     "output_type": "stream",
     "text": [
      "Found a path.\n",
      "1024 1023.0\n"
     ]
    }
   ],
   "source": [
    "path, cost = a_star(grid, heuristic_func, start_ne, goal_ne)\n",
    "print(len(path), cost)"
   ]
  },
  {
   "cell_type": "code",
   "execution_count": 11,
   "metadata": {},
   "outputs": [
    {
     "data": {
      "image/png": "[encoded data removed]",
      "text/plain": [
       "<Figure size 864x864 with 1 Axes>"
      ]
     },
     "metadata": {},
     "output_type": "display_data"
    }
   ],
   "source": [
    "plt.imshow(grid, cmap='Greys', origin='lower')\n",
    "\n",
    "# For the purposes of the visual the east coordinate lay along\n",
    "# the x-axis and the north coordinates long the y-axis.\n",
    "plt.plot(start_ne[1], start_ne[0], 'x')\n",
    "plt.plot(goal_ne[1], goal_ne[0], 'x')\n",
    "\n",
    "pp = np.array(path)\n",
    "plt.plot(pp[:, 1], pp[:, 0], 'g')\n",
    "\n",
    "plt.xlabel('EAST')\n",
    "plt.ylabel('NORTH')\n",
    "plt.show()"
   ]
  },
  {
   "cell_type": "markdown",
   "metadata": {},
   "source": [
    "Pretty neat! Unfortunately this path is impractical, the drone would be constantly stopping and going since each grid cell visited is synonymous with a waypoint. Ideally, we'd like to only consider a new waypoint when the drone's direction changes. Path pruning is one way to achieve this result."
   ]
  },
  {
   "cell_type": "markdown",
   "metadata": {},
   "source": [
    "#### Path Pruning"
   ]
  },
  {
   "cell_type": "code",
   "execution_count": 12,
   "metadata": {},
   "outputs": [],
   "source": [
    "def point(p):\n",
    "    return np.array([p[0], p[1], 1.]).reshape(1, -1)\n",
    "\n",
    "def collinearity_check(p1, p2, p3, epsilon=1e-6):\n",
    "    m=np.concatenate((p1, p2, p3), 0)\n",
    "    det=np.linalg.det(m)\n",
    "    return abs(det) < epsilon"
   ]
  },
  {
   "cell_type": "markdown",
   "metadata": {},
   "source": [
    "Complete the `prune_path` function below. It should return a new path much shorter than the original."
   ]
  },
  {
   "cell_type": "code",
   "execution_count": 13,
   "metadata": {},
   "outputs": [],
   "source": [
    "# We're using collinearity here, but you could use Bresenham as well!\n",
    "def prune_path(path):\n",
    "    pruned_path=[p for p in path]\n",
    "    # TODO: prune the path!\n",
    "    i=0\n",
    "    while i < len(pruned_path) - 2:\n",
    "        p1=point(pruned_path[i])\n",
    "        p2=point(pruned_path[i+1])\n",
    "        p3=point(pruned_path[i+2])\n",
    "        # If the 3 points are in a line remove\n",
    "        # the 2nd point.\n",
    "        # The 3rd point now becomes and 2nd point\n",
    "        # and the check is redone with a new third point\n",
    "        # on the next iteration.\n",
    "        if collinearity_check(p1, p2, p3):\n",
    "            # Something subtle here but we can mutate\n",
    "            # `pruned_path` freely because the length\n",
    "            # of the list is check on every iteration.\n",
    "            pruned_path.remove(pruned_path[i+1])\n",
    "        else:\n",
    "            i += 1\n",
    "    return pruned_path\n",
    "            "
   ]
  },
  {
   "cell_type": "code",
   "execution_count": 14,
   "metadata": {},
   "outputs": [
    {
     "name": "stdout",
     "output_type": "stream",
     "text": [
      "15\n"
     ]
    }
   ],
   "source": [
    "pruned_path=prune_path(path)\n",
    "print(len(pruned_path))"
   ]
  },
  {
   "cell_type": "code",
   "execution_count": 15,
   "metadata": {},
   "outputs": [
    {
     "data": {
      "text/plain": [
       "[(25, 100),\n",
       " (25, 196),\n",
       " (284, 196),\n",
       " (284, 256),\n",
       " (294, 256),\n",
       " (294, 306),\n",
       " (424, 306),\n",
       " (424, 356),\n",
       " (574, 356),\n",
       " (574, 370),\n",
       " (596, 370),\n",
       " (596, 384),\n",
       " (704, 384),\n",
       " (704, 370),\n",
       " (750.0, 370.0)]"
      ]
     },
     "execution_count": 15,
     "metadata": {},
     "output_type": "execute_result"
    }
   ],
   "source": [
    "pruned_path"
   ]
  },
  {
   "cell_type": "code",
   "execution_count": 16,
   "metadata": {},
   "outputs": [
    {
     "data": {
      "image/png": "[encoded data removed]",
      "text/plain": [
       "<Figure size 864x864 with 1 Axes>"
      ]
     },
     "metadata": {},
     "output_type": "display_data"
    }
   ],
   "source": [
    "plt.imshow(grid, cmap='Greys', origin='lower')\n",
    "plt.plot(start_ne[1], start_ne[0], 'x')\n",
    "plt.plot(goal_ne[1], goal_ne[0], 'x')\n",
    "pp=np.array(pruned_path)\n",
    "plt.plot(pp[:, 1], pp[:, 0], 'g')\n",
    "plt.scatter(pp[:, 1], pp[:, 0])\n",
    "plt.xlabel('EAST')\n",
    "plt.ylabel('NORTH')\n",
    "plt.show()"
   ]
  },
  {
   "cell_type": "markdown",
   "metadata": {},
   "source": [
    "#### Bresenham"
   ]
  },
  {
   "cell_type": "code",
   "execution_count": 17,
   "metadata": {},
   "outputs": [],
   "source": [
    "import numpy as np\n",
    "import matplotlib.pyplot as plt\n",
    "%matplotlib inline\n",
    "plt.rcParams['figure.figsize'] = 12, 12"
   ]
  },
  {
   "cell_type": "code",
   "execution_count": 19,
   "metadata": {},
   "outputs": [],
   "source": [
    "def bres(p1, p2):\n",
    "    \"\"\"\n",
    "    Note this solution requires `x1` < `x2` and `y1` < `y2`.\n",
    "    \"\"\"\n",
    "    x1, y1 = p1\n",
    "    x2, y2 = p2\n",
    "    cells = []\n",
    "    #Here's a quick explanation in math terms of our approach\n",
    "    #First, set dx=x2-x1 and dy=y2-y1\n",
    "    dx, dy = x2 - x1, y2 - y1\n",
    "    #Then define a new quantity: d=xdy-ydx.\n",
    "    #and set d=0 initially\n",
    "    d = 0\n",
    "    #The condition we care about is whether\n",
    "    #(x+1)*m<y+1 or moving things around a bit:\n",
    "    #(x+1)dy/dx<y+1\n",
    "    #which implies: xdy-ydx<dx-dy\n",
    "    #or in other words: d<dx-dy is our new condition\n",
    "    \n",
    "    #Initialize i, j indices\n",
    "    i = x1\n",
    "    j = y1\n",
    "    while i < x2 and j < y2:\n",
    "        cells.append([i, j])\n",
    "        if d < dx - dy:\n",
    "            d+=dy\n",
    "            i+=1\n",
    "        elif d == dx-dy:\n",
    "            #uncomment these two lines for conservative approach\n",
    "            #ceils.append([i+1,j])\n",
    "            #ceils.append([i, j+1])\n",
    "            d+=dy\n",
    "            i+=1\n",
    "            d-=dx\n",
    "            j+=1\n",
    "        else:\n",
    "            d-=dx\n",
    "            j+=1\n",
    "    return np.array(cells)          "
   ]
  },
  {
   "cell_type": "markdown",
   "metadata": {},
   "source": [
    "Plotting the line with the cells which it crosses. "
   ]
  },
  {
   "cell_type": "code",
   "execution_count": 22,
   "metadata": {},
   "outputs": [
    {
     "name": "stdout",
     "output_type": "stream",
     "text": [
      "[[ 25 100]\n",
      " [ 26 100]\n",
      " [ 27 100]\n",
      " ...\n",
      " [747 369]\n",
      " [748 369]\n",
      " [749 369]]\n"
     ]
    }
   ],
   "source": [
    "p1=(25, 100)\n",
    "p2=(750, 370)\n",
    "cells=bres(p1, p2)\n",
    "print(cells)"
   ]
  },
  {
   "cell_type": "code",
   "execution_count": 25,
   "metadata": {},
   "outputs": [
    {
     "data": {
      "image/png": "[encoded data removed]",
      "text/plain": [
       "<Figure size 864x864 with 1 Axes>"
      ]
     },
     "metadata": {},
     "output_type": "display_data"
    }
   ],
   "source": [
    "plt.imshow(grid, cmap='Greys', origin='lower')\n",
    "plt.plot(p1[1], p1[0], 'x')\n",
    "plt.plot(p2[1], p2[0], 'x')\n",
    "pp=np.array(cells)\n",
    "plt.plot(pp[:, 1], pp[:, 0], 'g')\n",
    "plt.scatter(pp[:, 1], pp[:, 0])\n",
    "plt.xlabel('EAST')\n",
    "plt.ylabel('NORTH')\n",
    "plt.show()"
   ]
  },
  {
   "cell_type": "code",
   "execution_count": 23,
   "metadata": {},
   "outputs": [
    {
     "data": {
      "image/png": "[encoded data removed]",
      "text/plain": [
       "<Figure size 864x864 with 1 Axes>"
      ]
     },
     "metadata": {},
     "output_type": "display_data"
    }
   ],
   "source": [
    "plt.plot([p1[0], p2[0]], [p1[1], p2[1]])\n",
    "for q in cells:\n",
    "    plt.plot([q[0], q[0]+1], [q[1], q[1]], 'k')\n",
    "    plt.plot([q[0], q[0]+1], [q[1]+1, q[1]+1], 'k')\n",
    "    plt.plot([q[0], q[0]], [q[1], q[1]+1], 'k')\n",
    "    plt.plot([q[0]+1, q[0]+1], [q[1], q[1]+1], 'k')\n",
    "    \n",
    "plt.grid()\n",
    "plt.axis('equal')\n",
    "plt.xlabel('X')\n",
    "plt.ylabel('Y')\n",
    "plt.title(\"Integer based Bresenham algorithm\")\n",
    "plt.show()"
   ]
  },
  {
   "cell_type": "markdown",
   "metadata": {},
   "source": [
    "#### Python Bresenham Package\n",
    "For comparison let's have a look at the Python Bresenham package! As mentioned above, if you've added a safety margin around obstacles you are probably fine using this package or one like it that misses some cells in collision with the line.\n",
    "\n",
    "First we need to import it:"
   ]
  },
  {
   "cell_type": "code",
   "execution_count": 27,
   "metadata": {},
   "outputs": [],
   "source": [
    "from bresenham import bresenham"
   ]
  },
  {
   "cell_type": "code",
   "execution_count": 28,
   "metadata": {},
   "outputs": [
    {
     "name": "stdout",
     "output_type": "stream",
     "text": [
      "[(0, 0), (1, 1), (2, 1), (3, 2), (4, 3), (5, 4), (6, 4), (7, 5)]\n"
     ]
    }
   ],
   "source": [
    "line=(0, 0, 7, 5)\n",
    "cells=list(bresenham(line[0], line[1], line[2], line[3]))\n",
    "print(cells)"
   ]
  },
  {
   "cell_type": "code",
   "execution_count": 29,
   "metadata": {},
   "outputs": [
    {
     "data": {
      "image/png": "[encoded data removed]",
      "text/plain": [
       "<Figure size 864x864 with 1 Axes>"
      ]
     },
     "metadata": {},
     "output_type": "display_data"
    }
   ],
   "source": [
    "plt.plot([line[0], line[2]], [line[1], line[3]])\n",
    "\n",
    "\n",
    "for q in cells:\n",
    "    plt.plot([q[0], q[0]+1], [q[1], q[1]], 'k')\n",
    "    plt.plot([q[0], q[0]+1], [q[1]+1, q[1]+1], 'k')\n",
    "    plt.plot([q[0], q[0]], [q[1],q[1]+1], 'k')\n",
    "    plt.plot([q[0]+1, q[0]+1], [q[1], q[1]+1], 'k')\n",
    "\n",
    "plt.grid()\n",
    "plt.axis('equal')\n",
    "plt.xlabel(\"X\")\n",
    "plt.ylabel(\"Y\")\n",
    "plt.title(\"Python package Bresenham algorithm\")\n",
    "plt.show()"
   ]
  },
  {
   "cell_type": "code",
   "execution_count": 30,
   "metadata": {},
   "outputs": [
    {
     "name": "stdout",
     "output_type": "stream",
     "text": [
      "[(2, 9), (3, 10), (4, 10), (5, 11), (6, 12), (7, 12), (8, 13), (9, 14), (10, 14), (11, 15), (12, 16), (13, 16), (14, 17), (15, 18), (16, 18), (17, 19), (18, 20), (19, 20), (20, 21), (21, 22), (22, 22), (23, 23), (24, 23), (25, 24), (26, 25), (27, 25), (28, 26), (29, 27), (30, 27), (31, 28), (32, 29), (33, 29), (34, 30), (35, 31), (36, 31), (37, 32), (38, 33), (39, 33), (40, 34), (41, 35), (42, 35), (43, 36), (44, 37), (45, 37), (46, 38), (47, 39), (48, 39), (49, 40), (50, 41), (51, 41), (52, 42), (53, 43), (54, 43), (55, 44), (56, 45), (57, 45), (58, 46), (59, 47), (60, 47), (61, 48), (62, 48), (63, 49), (64, 50), (65, 50), (66, 51), (67, 52), (68, 52), (69, 53), (70, 54), (71, 54), (72, 55), (73, 56), (74, 56), (75, 57), (76, 58), (77, 58), (78, 59)]\n"
     ]
    },
    {
     "data": {
      "image/png": "[encoded data removed]",
      "text/plain": [
       "<Figure size 864x864 with 1 Axes>"
      ]
     },
     "metadata": {},
     "output_type": "display_data"
    }
   ],
   "source": [
    "line = (2, 9, 78, 59)\n",
    "\n",
    "cells = list(bresenham(line[0], line[1], line[2], line[3]))\n",
    "print(cells)\n",
    "\n",
    "plt.plot([line[0], line[2]], [line[1], line[3]])\n",
    "\n",
    "\n",
    "for q in cells:\n",
    "    plt.plot([q[0], q[0]+1], [q[1], q[1]], 'k')\n",
    "    plt.plot([q[0], q[0]+1], [q[1]+1, q[1]+1], 'k')\n",
    "    plt.plot([q[0], q[0]], [q[1],q[1]+1], 'k')\n",
    "    plt.plot([q[0]+1, q[0]+1], [q[1], q[1]+1], 'k')\n",
    "\n",
    "plt.grid()\n",
    "plt.axis('equal')\n",
    "plt.xlabel(\"X\")\n",
    "plt.ylabel(\"Y\")\n",
    "plt.title(\"Python package Bresenham algorithm\")\n",
    "plt.show()"
   ]
  },
  {
   "cell_type": "code",
   "execution_count": null,
   "metadata": {},
   "outputs": [],
   "source": []
  },
  {
   "cell_type": "code",
   "execution_count": null,
   "metadata": {},
   "outputs": [],
   "source": []
  },
  {
   "cell_type": "code",
   "execution_count": null,
   "metadata": {},
   "outputs": [],
   "source": []
  },
  {
   "cell_type": "code",
   "execution_count": null,
   "metadata": {},
   "outputs": [],
   "source": []
  },
  {
   "cell_type": "code",
   "execution_count": 29,
   "metadata": {},
   "outputs": [
    {
     "name": "stdout",
     "output_type": "stream",
     "text": [
      "Found a path.\n",
      "1023 1023\n"
     ]
    }
   ],
   "source": [
    "#uniform_cost algorithm's path can't describe in map\n",
    "#path, cost=uniform_cost(grid, start_ne, goal_ne)\n",
    "#print(len(path), cost)"
   ]
  },
  {
   "cell_type": "code",
   "execution_count": 31,
   "metadata": {},
   "outputs": [],
   "source": [
    "#breadth_first algorithm has too many values to unpack (expected 2)\n",
    "#path, cost=breadth_first(grid, start_ne, goal_ne)\n",
    "#print(len(path), cost)"
   ]
  },
  {
   "cell_type": "markdown",
   "metadata": {},
   "source": [
    "##### Executing the search\n",
    "\n",
    "Run `uniform_cost()` and reference the grid to see if the path makes sense."
   ]
  },
  {
   "cell_type": "code",
   "execution_count": 63,
   "metadata": {},
   "outputs": [],
   "source": [
    "start=(0, 0)\n",
    "goal=(4, 4)\n",
    "grid = np.array([\n",
    "    [0, 1, 0, 0, 0, 0],\n",
    "    [0, 1, 0, 1, 0, 0],\n",
    "    [0, 1, 0, 0, 0, 0],\n",
    "    [0, 1, 0, 0, 1, 0],\n",
    "    [0, 0, 0, 1, 0, 0],\n",
    "])"
   ]
  },
  {
   "cell_type": "code",
   "execution_count": 64,
   "metadata": {},
   "outputs": [
    {
     "name": "stdout",
     "output_type": "stream",
     "text": [
      "Found a path.\n",
      "14 [<Action.DOWN: (1, 0, 1)>, <Action.DOWN: (1, 0, 1)>, <Action.DOWN: (1, 0, 1)>, <Action.DOWN: (1, 0, 1)>, <Action.RIGHT: (0, 1, 1)>, <Action.RIGHT: (0, 1, 1)>, <Action.UP: (-1, 0, 1)>, <Action.UP: (-1, 0, 1)>, <Action.RIGHT: (0, 1, 1)>, <Action.RIGHT: (0, 1, 1)>, <Action.RIGHT: (0, 1, 1)>, <Action.DOWN: (1, 0, 1)>, <Action.DOWN: (1, 0, 1)>, <Action.LEFT: (0, -1, 1)>]\n"
     ]
    }
   ],
   "source": [
    "path, path_cost = uniform_cost(grid, start, goal)\n",
    "print(path_cost, path)"
   ]
  },
  {
   "cell_type": "code",
   "execution_count": 65,
   "metadata": {},
   "outputs": [
    {
     "data": {
      "text/plain": [
       "array([['S', 'O', ' ', ' ', ' ', ' '],\n",
       "       ['v', 'O', ' ', 'O', ' ', ' '],\n",
       "       ['v', 'O', '>', '>', '>', 'v'],\n",
       "       ['v', 'O', '^', ' ', 'O', 'v'],\n",
       "       ['>', '>', '^', 'O', 'G', '<']], dtype='<U1')"
      ]
     },
     "execution_count": 65,
     "metadata": {},
     "output_type": "execute_result"
    }
   ],
   "source": [
    "# S -> start, G -> goal, O -> obstacle\n",
    "visualize_path(grid, path, start)"
   ]
  },
  {
   "cell_type": "code",
   "execution_count": 70,
   "metadata": {},
   "outputs": [],
   "source": [
    "start=(0,0)\n",
    "goal=(5,5)"
   ]
  },
  {
   "cell_type": "code",
   "execution_count": 86,
   "metadata": {},
   "outputs": [],
   "source": [
    "grid = np.array([\n",
    "    [0, 1, 0, 0, 0, 0, 1, 0],\n",
    "    [0, 1, 0, 1, 0, 0, 0, 1],\n",
    "    [0, 1, 0, 0, 0, 0, 1, 1],\n",
    "    [0, 1, 0, 0, 1, 0, 0, 0],\n",
    "    [0, 0, 0, 1, 0, 0, 0, 1],\n",
    "    [0, 1, 0, 0, 0, 0, 1, 1],\n",
    "    [0, 1, 0, 0, 1, 0, 0, 0],\n",
    "    [0, 1, 0, 0, 0, 0, 1, 0]\n",
    "])"
   ]
  },
  {
   "cell_type": "code",
   "execution_count": 87,
   "metadata": {},
   "outputs": [
    {
     "name": "stdout",
     "output_type": "stream",
     "text": [
      "Found a path.\n",
      "10 [<Action.DOWN: (1, 0, 1)>, <Action.DOWN: (1, 0, 1)>, <Action.DOWN: (1, 0, 1)>, <Action.DOWN: (1, 0, 1)>, <Action.RIGHT: (0, 1, 1)>, <Action.RIGHT: (0, 1, 1)>, <Action.DOWN: (1, 0, 1)>, <Action.RIGHT: (0, 1, 1)>, <Action.RIGHT: (0, 1, 1)>, <Action.RIGHT: (0, 1, 1)>]\n"
     ]
    }
   ],
   "source": [
    "path, path_cost=uniform_cost(grid, start, goal)\n",
    "print(path_cost, path)"
   ]
  },
  {
   "cell_type": "code",
   "execution_count": 88,
   "metadata": {},
   "outputs": [
    {
     "data": {
      "text/plain": [
       "array([['S', 'O', ' ', ' ', ' ', ' ', 'O', ' '],\n",
       "       ['v', 'O', ' ', 'O', ' ', ' ', ' ', 'O'],\n",
       "       ['v', 'O', ' ', ' ', ' ', ' ', 'O', 'O'],\n",
       "       ['v', 'O', ' ', ' ', 'O', ' ', ' ', ' '],\n",
       "       ['>', '>', 'v', 'O', ' ', ' ', ' ', 'O'],\n",
       "       [' ', 'O', '>', '>', '>', 'G', 'O', 'O'],\n",
       "       [' ', 'O', ' ', ' ', 'O', ' ', ' ', ' '],\n",
       "       [' ', 'O', ' ', ' ', ' ', ' ', 'O', ' ']], dtype='<U1')"
      ]
     },
     "execution_count": 88,
     "metadata": {},
     "output_type": "execute_result"
    }
   ],
   "source": [
    "visualize_path(grid, path, start)"
   ]
  },
  {
   "cell_type": "code",
   "execution_count": 83,
   "metadata": {},
   "outputs": [
    {
     "data": {
      "text/plain": [
       "array([[1, 1, 1, 0, 0, 0, 1, 1],\n",
       "       [1, 1, 0, 0, 1, 1, 1, 1],\n",
       "       [1, 1, 1, 0, 0, 1, 1, 0],\n",
       "       [1, 0, 0, 1, 1, 0, 0, 1],\n",
       "       [0, 1, 1, 1, 1, 0, 1, 1],\n",
       "       [1, 0, 0, 0, 0, 1, 1, 1],\n",
       "       [0, 1, 1, 1, 1, 1, 0, 0],\n",
       "       [0, 1, 0, 0, 0, 1, 0, 0]])"
      ]
     },
     "execution_count": 83,
     "metadata": {},
     "output_type": "execute_result"
    }
   ],
   "source": [
    "#random array is invalid\n",
    "from numpy import random\n",
    "grid=random.randint(0, 2, (8, 8))\n",
    "grid"
   ]
  },
  {
   "cell_type": "code",
   "execution_count": null,
   "metadata": {},
   "outputs": [],
   "source": []
  },
  {
   "cell_type": "code",
   "execution_count": 2,
   "metadata": {},
   "outputs": [],
   "source": [
    "lon = np.array([83.71666667, 83.7       , 83.6       , 83.65      , 83.6       ,\n",
    "       83.88333333, 83.56666667, 83.88333333, 83.96666667, 83.75      ,\n",
    "       83.7       , 83.1       , 83.21666667, 83.73333333, 83.65      ,\n",
    "       83.4       , 83.56666667, 84.        , 83.78333333, 83.68333333,\n",
    "       83.6       , 83.48333333, 83.3       , 83.38333333, 83.61666667,\n",
    "       83.98333333, 83.43333333, 83.53333333, 84.05      , 84.21666667,\n",
    "       83.15      , 83.06666667, 83.26666667, 83.25      , 83.8       ,\n",
    "       84.9       , 84.36666667, 84.        , 83.88333333, 84.61666667,\n",
    "       84.35      , 84.41666667, 84.61666667, 83.81666667, 84.11666667,\n",
    "       83.81666667, 83.8       , 84.1       , 84.23333333, 84.28333333,\n",
    "       83.96666667, 84.01666667, 83.8       , 84.61666667, 84.1       ,\n",
    "       83.76666667, 84.13333333, 83.75      , 83.78333333, 83.91666667,\n",
    "       85.        , 84.28333333, 84.41666667, 84.53333333, 85.13333333,\n",
    "       85.05      , 85.01666667, 84.81666667, 84.98333333, 84.43333333,\n",
    "       85.38333333, 84.81666667, 85.01666667, 84.93333333, 85.25      ,\n",
    "       85.18333333, 85.31666667, 85.3       , 85.11666667, 85.41666667,\n",
    "       85.25      , 85.54722   ])\n"
   ]
  },
  {
   "cell_type": "code",
   "execution_count": 3,
   "metadata": {},
   "outputs": [],
   "source": [
    "lat = np.array([28.78333333, 28.75      , 28.26666667, 28.48333333, 28.63333333,\n",
    "       28.81666667, 28.35      , 29.05      , 29.18333333, 28.18333333,\n",
    "       28.21666667, 28.4       , 28.6       , 28.4       , 28.03333333,\n",
    "       28.38333333, 28.15      , 29.1       , 28.96666667, 28.9       ,\n",
    "       28.46666667, 28.38333333, 28.05      , 28.56666667, 28.13333333,\n",
    "       29.18333333, 27.95      , 27.86666667, 27.68333333, 27.68333333,\n",
    "       27.93333333, 27.55      , 28.01666667, 28.06666667, 27.86666667,\n",
    "       28.36666667, 28.28333333, 28.21666667, 28.1       , 28.06666667,\n",
    "       28.13333333, 27.93333333, 28.        , 27.88333333, 28.11666667,\n",
    "       28.26666667, 28.3       , 28.03333333, 28.55      , 27.96666667,\n",
    "       28.26666667, 28.06666667, 28.38333333, 28.2       , 28.36666667,\n",
    "       27.98333333, 27.86666667, 28.26666667, 28.26666667, 28.08333333,\n",
    "       28.48333333, 28.76666667, 27.61666667, 27.58333333, 27.55      ,\n",
    "       27.41666667, 27.41666667, 27.55      , 27.43333333, 27.06666667,\n",
    "       28.28333333, 28.05      , 27.91666667, 27.86666667, 27.8       ,\n",
    "       27.71666667, 28.01666667, 28.1       , 28.01666667, 27.75      ,\n",
    "       27.75      , 28.20946   ])"
   ]
  },
  {
   "cell_type": "code",
   "execution_count": 4,
   "metadata": {},
   "outputs": [],
   "source": [
    "import utm\n",
    "X = []\n",
    "Y = []\n",
    "for i in np.arange(len(lat)):\n",
    "    LAT,LON,Z,S = utm.from_latlon(lat[i],lon[i])\n",
    "    X = np.append(X,LON)\n",
    "    Y = np.append (Y,LAT)"
   ]
  },
  {
   "cell_type": "code",
   "execution_count": 13,
   "metadata": {},
   "outputs": [
    {
     "data": {
      "text/plain": [
       "<matplotlib.collections.PathCollection at 0x113e74c88>"
      ]
     },
     "execution_count": 13,
     "metadata": {},
     "output_type": "execute_result"
    },
    {
     "data": {
      "image/png": "[encoded data removed]",
      "text/plain": [
       "<Figure size 432x288 with 1 Axes>"
      ]
     },
     "metadata": {},
     "output_type": "display_data"
    }
   ],
   "source": [
    "import matplotlib.pyplot as plt\n",
    "plt.scatter (Y,X,color='yellowgreen')"
   ]
  },
  {
   "cell_type": "code",
   "execution_count": 11,
   "metadata": {},
   "outputs": [
    {
     "data": {
      "text/plain": [
       "<matplotlib.collections.PathCollection at 0x1063796d8>"
      ]
     },
     "execution_count": 11,
     "metadata": {},
     "output_type": "execute_result"
    },
    {
     "data": {
      "image/png": "[encoded data removed]",
      "text/plain": [
       "<Figure size 432x288 with 1 Axes>"
      ]
     },
     "metadata": {},
     "output_type": "display_data"
    }
   ],
   "source": [
    "plt.scatter(X,Y,color='lightcoral')"
   ]
  },
  {
   "cell_type": "code",
   "execution_count": 9,
   "metadata": {},
   "outputs": [],
   "source": [
    "import pyproj\n",
    "from pyproj import Proj"
   ]
  },
  {
   "cell_type": "code",
   "execution_count": 16,
   "metadata": {},
   "outputs": [
    {
     "data": {
      "text/plain": [
       "<matplotlib.collections.PathCollection at 0x113f4d860>"
      ]
     },
     "execution_count": 16,
     "metadata": {},
     "output_type": "execute_result"
    },
    {
     "data": {
      "image/png": "[encoded data removed]",
      "text/plain": [
       "<Figure size 432x288 with 1 Axes>"
      ]
     },
     "metadata": {},
     "output_type": "display_data"
    }
   ],
   "source": [
    "myProj = Proj(\"+proj=utm +zone=45U, +north +ellps=WGS84 +datum=WGS84 +units=m +no_defs\")\n",
    "lon_,lat_ = myProj(lon, lat) \n",
    "plt.scatter(lon_,lat_, color='gold')"
   ]
  },
  {
   "cell_type": "code",
   "execution_count": null,
   "metadata": {},
   "outputs": [],
   "source": []
  }
 ],
 "metadata": {
  "kernelspec": {
   "display_name": "Python 3",
   "language": "python",
   "name": "python3"
  },
  "language_info": {
   "codemirror_mode": {
    "name": "ipython",
    "version": 3
   },
   "file_extension": ".py",
   "mimetype": "text/x-python",
   "name": "python",
   "nbconvert_exporter": "python",
   "pygments_lexer": "ipython3",
   "version": "3.5.5"
  }
 },
 "nbformat": 4,
 "nbformat_minor": 2
}
